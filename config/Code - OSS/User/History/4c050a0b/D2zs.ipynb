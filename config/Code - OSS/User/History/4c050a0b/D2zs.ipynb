{
 "cells": [
  {
   "cell_type": "code",
   "execution_count": null,
   "metadata": {},
   "outputs": [],
   "source": [
    "import matplotlib.pyplot as plt\n",
    "import numpy as np\n",
    "\n",
    "import matplotlib.animation as animation\n",
    "\n",
    "fig, ax = plt.subplots()\n",
    "ax.set_xlim([0, 10])\n",
    "\n",
    "scat = ax.scatter(1, 0)\n",
    "x = np.linspace(0, 10)\n",
    "\n",
    "\n",
    "def animate(i):\n",
    "    scat.set_offsets((x[i], 0))\n",
    "    return scat,\n",
    "\n",
    "ani = animation.FuncAnimation(fig, animate, repeat=True,\n",
    "                                    frames=len(x) - 1, interval=50)\n",
    "\n",
    "# To save the animation using Pillow as a gif\n",
    "# writer = animation.PillowWriter(fps=15,\n",
    "#                                 metadata=dict(artist='Me'),\n",
    "#                                 bitrate=1800)\n",
    "# ani.save('scatter.gif', writer=writer)\n",
    "\n",
    "plt.show()\n"
   ]
  }
 ],
 "metadata": {
  "language_info": {
   "name": "python"
  }
 },
 "nbformat": 4,
 "nbformat_minor": 2
}
